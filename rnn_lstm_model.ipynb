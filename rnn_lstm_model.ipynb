{
  "nbformat": 4,
  "nbformat_minor": 0,
  "metadata": {
    "colab": {
      "provenance": [],
      "authorship_tag": "ABX9TyOVEMbhpmA4tzqwQExgYELF",
      "include_colab_link": true
    },
    "kernelspec": {
      "name": "python3",
      "display_name": "Python 3"
    },
    "language_info": {
      "name": "python"
    }
  },
  "cells": [
    {
      "cell_type": "markdown",
      "metadata": {
        "id": "view-in-github",
        "colab_type": "text"
      },
      "source": [
        "<a href=\"https://colab.research.google.com/github/Mfiso1/Recurrent-Neural-Networks/blob/main/rnn_lstm_model.ipynb\" target=\"_parent\"><img src=\"https://colab.research.google.com/assets/colab-badge.svg\" alt=\"Open In Colab\"/></a>"
      ]
    },
    {
      "cell_type": "code",
      "source": [
        "import os                           # Provides functions to interact with the operating system\n",
        "import re                           # Allows regular expression operations for pattern matching and text cleaning\n",
        "import numpy as np                  # Numerical computing library for arrays and mathematical operations\n",
        "import pandas as pd                 # Data manipulation and analysis library (DataFrames, CSV/Excel I/O)\n",
        "import nltk                         # Natural Language Toolkit for text processing and tokenization\n",
        "from sklearn.model_selection import train_test_split   # Splits datasets into training and testing sets\n",
        "from sklearn.preprocessing import LabelEncoder        # Converts categorical labels into numeric form\n",
        "from tensorflow.keras.preprocessing.text import Tokenizer        # Converts text into sequences of integers for ML models\n",
        "from tensorflow.keras.preprocessing.sequence import pad_sequences  # Pads sequences to a fixed length for uniform input\n",
        "from tensorflow.keras.utils import to_categorical               # Converts numeric labels into one-hot encoded vectors\n",
        "from tensorflow.keras.models import Sequential                  # Keras class for building sequential neural network models\n",
        "from tensorflow.keras.layers import Embedding, LSTM, Dense, Dropout  # Layers: Embedding (word vectors), LSTM (sequence learning), Dense (fully connected), Dropout (regularization)\n",
        "\n",
        "\n",
        "# Spark\n",
        "from pyspark.sql import SparkSession          # Entry point for using Spark SQL and DataFrames in PySpark\n",
        "from pyspark.sql.functions import input_file_name, udf  # input_file_name: gets the source file path; `udf` defines custom user functions\n",
        "from pyspark.sql.types import StringType     # Defines the data type of columns when using UDFs or creating DataFrames -  in this instance -  string type\n",
        "\n",
        "nltk.download('punkt')\n"
      ],
      "metadata": {
        "colab": {
          "base_uri": "https://localhost:8080/"
        },
        "id": "ZkfozpmU7GM1",
        "outputId": "bb696c91-ad41-4ad8-ff4b-c013bd0042e3"
      },
      "execution_count": 26,
      "outputs": [
        {
          "output_type": "stream",
          "name": "stderr",
          "text": [
            "[nltk_data] Downloading package punkt to /root/nltk_data...\n",
            "[nltk_data]   Package punkt is already up-to-date!\n"
          ]
        },
        {
          "output_type": "execute_result",
          "data": {
            "text/plain": [
              "True"
            ]
          },
          "metadata": {},
          "execution_count": 26
        }
      ]
    },
    {
      "cell_type": "code",
      "source": [
        "# Initializing Spark\n",
        "spark = SparkSession.builder \\\n",
        "    .appName(\"AuthorPrediction\") \\\n",
        "    .getOrCreate()\n"
      ],
      "metadata": {
        "id": "9Qv52sfm8DzD"
      },
      "execution_count": 27,
      "outputs": []
    },
    {
      "cell_type": "code",
      "source": [
        "# Clone repo\n",
        "!git clone https://github.com/Mfiso1/Recurrent-Neural-Networks.git\n",
        "data_path = \"Recurrent-Neural-Networks/text_files\"  # folder name\n",
        "\n",
        "# Read all .txt files into Spark DataFrame\n",
        "df = spark.read.text(f\"{data_path}/*.txt\").withColumnRenamed(\"value\", \"text\") \\\n",
        "    .withColumn(\"file_path\", input_file_name())\n"
      ],
      "metadata": {
        "id": "l2mMga1o-B70",
        "outputId": "d850a4b1-8bc8-4a42-aa5b-1a97a46ff9d9",
        "colab": {
          "base_uri": "https://localhost:8080/"
        }
      },
      "execution_count": 28,
      "outputs": [
        {
          "output_type": "stream",
          "name": "stdout",
          "text": [
            "fatal: destination path 'Recurrent-Neural-Networks' already exists and is not an empty directory.\n"
          ]
        }
      ]
    },
    {
      "cell_type": "code",
      "source": [
        "df.show(5)   # Displays the first 5 rows in the DataFrame"
      ],
      "metadata": {
        "id": "2RQ9hZiz-mDh",
        "outputId": "0fd3aa5f-96fc-40e1-b861-b56b119fcb79",
        "colab": {
          "base_uri": "https://localhost:8080/"
        }
      },
      "execution_count": 29,
      "outputs": [
        {
          "output_type": "stream",
          "name": "stdout",
          "text": [
            "+--------------------+--------------------+\n",
            "|                text|           file_path|\n",
            "+--------------------+--------------------+\n",
            "|Project Gutenberg...|file:///content/R...|\n",
            "|                    |file:///content/R...|\n",
            "|This eBook is for...|file:///content/R...|\n",
            "|no restrictions w...|file:///content/R...|\n",
            "|under the terms o...|file:///content/R...|\n",
            "+--------------------+--------------------+\n",
            "only showing top 5 rows\n",
            "\n"
          ]
        }
      ]
    },
    {
      "cell_type": "code",
      "source": [
        "# Show all unique file paths\n",
        "df.select(\"file_path\").distinct().show(truncate=False)\n"
      ],
      "metadata": {
        "id": "i7O6hg0E_a62",
        "outputId": "d72bd4b8-72c6-4730-8ee3-1c5cf7023b9c",
        "colab": {
          "base_uri": "https://localhost:8080/"
        }
      },
      "execution_count": 30,
      "outputs": [
        {
          "output_type": "stream",
          "name": "stdout",
          "text": [
            "+----------------------------------------------------------------------------------------------------------------+\n",
            "|file_path                                                                                                       |\n",
            "+----------------------------------------------------------------------------------------------------------------+\n",
            "|file:///content/Recurrent-Neural-Networks/text_files/Emma_by_Jane_Austen.txt                                    |\n",
            "|file:///content/Recurrent-Neural-Networks/text_files/A_Tale_of_Two_Cities_by_Charles_Dickens.txt                |\n",
            "|file:///content/Recurrent-Neural-Networks/text_files/Great_Expectations_by_Charles_Dickens.txt                  |\n",
            "|file:///content/Recurrent-Neural-Networks/text_files/The_Adventures_of_Sherlock_Holmes_by_Arthur_Conan_Doyle.txt|\n",
            "|file:///content/Recurrent-Neural-Networks/text_files/Ulysses_by_James_Joyce.txt                                 |\n",
            "|file:///content/Recurrent-Neural-Networks/text_files/Adventures_of_Huckleberry_Finn_by_Mark_Twain.txt           |\n",
            "|file:///content/Recurrent-Neural-Networks/text_files/Dracula_by_Bram_Stoker.txt                                 |\n",
            "|file:///content/Recurrent-Neural-Networks/text_files/The_Count_of_Monte_Cristo_by_Alexandre_Dumas.txt           |\n",
            "|file:///content/Recurrent-Neural-Networks/text_files/The_Romance_of_Lust_by_Anonymous.txt                       |\n",
            "|file:///content/Recurrent-Neural-Networks/text_files/Pride_and_Prejudice_by_Jane_Austen.txt                     |\n",
            "|file:///content/Recurrent-Neural-Networks/text_files/A_Dolls_House_by_Henrik_Ibsen.txt                          |\n",
            "|file:///content/Recurrent-Neural-Networks/text_files/The_Prince_by_Nicolo_Machiavelli.txt                       |\n",
            "|file:///content/Recurrent-Neural-Networks/text_files/The_Adventures_of_Tom_Sawyer_by_Mark_Twain.txt             |\n",
            "|file:///content/Recurrent-Neural-Networks/text_files/Frankenstein_by_Mary_Shelley.txt                           |\n",
            "|file:///content/Recurrent-Neural-Networks/text_files/The_Importance_of_Being_Earnest_by_Oscar_Wilde.txt         |\n",
            "|file:///content/Recurrent-Neural-Networks/text_files/The_Yellow_Wallpaper_by_Charlotte_Perkins_Gilman.txt       |\n",
            "|file:///content/Recurrent-Neural-Networks/text_files/Metamorphosis_by_Franz_Kafka.txt                           |\n",
            "|file:///content/Recurrent-Neural-Networks/text_files/Grimms_Fairy_Tales_by_The_Brothers_Grimm.txt               |\n",
            "|file:///content/Recurrent-Neural-Networks/text_files/The_Picture_of_Dorian_Gray_by_Oscar_Wilde.txt              |\n",
            "|file:///content/Recurrent-Neural-Networks/text_files/Alices_Adventures_in_Wonderland_by_Lewis_Carroll.txt       |\n",
            "+----------------------------------------------------------------------------------------------------------------+\n",
            "\n"
          ]
        }
      ]
    },
    {
      "cell_type": "code",
      "source": [
        "# Extract author from filename\n",
        "def extract_author(path):\n",
        "    return re.findall(r'_by_(.*).txt', path)[0]\n",
        "\n",
        "author_udf = udf(extract_author, StringType())\n",
        "df = df.withColumn(\"author\", author_udf(\"file_path\"))\n",
        "\n",
        "# Optional: clean text, remove punctuation\n",
        "def clean_text(text):\n",
        "    return re.sub(r'[^a-zA-Z\\s]', '', text.lower())\n",
        "\n",
        "clean_udf = udf(clean_text, StringType())\n",
        "df = df.withColumn(\"clean_text\", clean_udf(\"text\"))\n",
        "\n",
        "df.show(5)\n"
      ],
      "metadata": {
        "id": "pM7W4uNqDS2h",
        "outputId": "8f615e93-5dd0-4f35-bb35-6ec1d597f555",
        "colab": {
          "base_uri": "https://localhost:8080/"
        }
      },
      "execution_count": 22,
      "outputs": [
        {
          "output_type": "stream",
          "name": "stdout",
          "text": [
            "+--------------------+--------------------+---------------+--------------------+\n",
            "|                text|           file_path|         author|          clean_text|\n",
            "+--------------------+--------------------+---------------+--------------------+\n",
            "|Project Gutenberg...|file:///content/R...|Alexandre_Dumas|project gutenberg...|\n",
            "|                    |file:///content/R...|Alexandre_Dumas|                    |\n",
            "|This eBook is for...|file:///content/R...|Alexandre_Dumas|this ebook is for...|\n",
            "|no restrictions w...|file:///content/R...|Alexandre_Dumas|no restrictions w...|\n",
            "|under the terms o...|file:///content/R...|Alexandre_Dumas|under the terms o...|\n",
            "+--------------------+--------------------+---------------+--------------------+\n",
            "only showing top 5 rows\n",
            "\n"
          ]
        }
      ]
    },
    {
      "cell_type": "code",
      "source": [
        "# Show all unique authors\n",
        "df.select(\"author\").distinct().show(truncate=False)"
      ],
      "metadata": {
        "id": "mcWQqWIVDjOO",
        "outputId": "9626993f-c799-49fe-8024-6fbfbf77c061",
        "colab": {
          "base_uri": "https://localhost:8080/"
        }
      },
      "execution_count": 23,
      "outputs": [
        {
          "output_type": "stream",
          "name": "stdout",
          "text": [
            "+------------------------+\n",
            "|author                  |\n",
            "+------------------------+\n",
            "|Arthur_Conan_Doyle      |\n",
            "|Charles_Dickens         |\n",
            "|Alexandre_Dumas         |\n",
            "|Jane_Austen             |\n",
            "|Mark_Twain              |\n",
            "|Anonymous               |\n",
            "|James_Joyce             |\n",
            "|Bram_Stoker             |\n",
            "|Oscar_Wilde             |\n",
            "|Charlotte_Perkins_Gilman|\n",
            "|Franz_Kafka             |\n",
            "|Lewis_Carroll           |\n",
            "|Henrik_Ibsen            |\n",
            "|Nicolo_Machiavelli      |\n",
            "|Mary_Shelley            |\n",
            "|The_Brothers_Grimm      |\n",
            "+------------------------+\n",
            "\n"
          ]
        }
      ]
    },
    {
      "cell_type": "code",
      "source": [
        "pandas_df = df.select(\"clean_text\", \"author\").toPandas()\n",
        "texts = pandas_df['clean_text'].tolist()\n",
        "labels = pandas_df['author'].tolist()\n"
      ],
      "metadata": {
        "id": "rYMcxXg0D25F"
      },
      "execution_count": 24,
      "outputs": []
    },
    {
      "cell_type": "code",
      "source": [
        "tokenizer = Tokenizer(num_words=10000, oov_token='<OOV>')\n",
        "tokenizer.fit_on_texts(texts)\n",
        "X = tokenizer.texts_to_sequences(texts)\n",
        "X = pad_sequences(X, maxlen=500, padding='post')\n",
        "\n",
        "le = LabelEncoder()\n",
        "y = to_categorical(le.fit_transform(labels))\n",
        "\n",
        "X_train, X_test, y_train, y_test = train_test_split(X, y, test_size=0.2, random_state=42)\n"
      ],
      "metadata": {
        "id": "ybagiwaaECJu"
      },
      "execution_count": 25,
      "outputs": []
    },
    {
      "cell_type": "code",
      "source": [
        "model = Sequential([\n",
        "    Embedding(input_dim=10000, output_dim=128, input_length=500),\n",
        "    LSTM(128),\n",
        "    Dropout(0.2),\n",
        "    Dense(y.shape[1], activation='softmax')\n",
        "])\n",
        "\n",
        "model.compile(optimizer='adam', loss='categorical_crossentropy', metrics=['accuracy'])\n",
        "model.fit(X_train, y_train, epochs=5, batch_size=32, validation_split=0.1)\n"
      ],
      "metadata": {
        "id": "L3itfQtHEJ5t",
        "outputId": "bb90802a-bb79-455e-a733-e9b7092d4fd1",
        "colab": {
          "base_uri": "https://localhost:8080/"
        }
      },
      "execution_count": null,
      "outputs": [
        {
          "output_type": "stream",
          "name": "stderr",
          "text": [
            "/usr/local/lib/python3.12/dist-packages/keras/src/layers/core/embedding.py:97: UserWarning: Argument `input_length` is deprecated. Just remove it.\n",
            "  warnings.warn(\n"
          ]
        },
        {
          "output_type": "stream",
          "name": "stdout",
          "text": [
            "Epoch 1/5\n",
            "\u001b[1m 292/6182\u001b[0m \u001b[37m━━━━━━━━━━━━━━━━━━━━\u001b[0m \u001b[1m1:32:25\u001b[0m 942ms/step - accuracy: 0.2104 - loss: 2.4779"
          ]
        }
      ]
    }
  ]
}