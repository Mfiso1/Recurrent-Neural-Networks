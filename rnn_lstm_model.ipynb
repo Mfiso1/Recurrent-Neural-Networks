{
  "nbformat": 4,
  "nbformat_minor": 0,
  "metadata": {
    "colab": {
      "provenance": [],
      "toc_visible": true,
      "authorship_tag": "ABX9TyNnVH2e8Lnh01cmrmGzUUTB",
      "include_colab_link": true
    },
    "kernelspec": {
      "name": "python3",
      "display_name": "Python 3"
    },
    "language_info": {
      "name": "python"
    }
  },
  "cells": [
    {
      "cell_type": "markdown",
      "metadata": {
        "id": "view-in-github",
        "colab_type": "text"
      },
      "source": [
        "<a href=\"https://colab.research.google.com/github/Mfiso1/Recurrent-Neural-Networks/blob/main/rnn_lstm_model.ipynb\" target=\"_parent\"><img src=\"https://colab.research.google.com/assets/colab-badge.svg\" alt=\"Open In Colab\"/></a>"
      ]
    },
    {
      "cell_type": "code",
      "source": [
        "import os                           # Provides functions to interact with the operating system\n",
        "import re                           # Allows regular expression operations for pattern matching and text cleaning\n",
        "import numpy as np                  # Numerical computing library for arrays and mathematical operations\n",
        "import pandas as pd                 # Data manipulation and analysis library (DataFrames, CSV/Excel I/O)\n",
        "import nltk                         # Natural Language Toolkit for text processing and tokenization\n",
        "from sklearn.model_selection import train_test_split   # Splits datasets into training and testing sets\n",
        "from sklearn.preprocessing import LabelEncoder        # Converts categorical labels into numeric form\n",
        "from tensorflow.keras.preprocessing.text import Tokenizer        # Converts text into sequences of integers for ML models\n",
        "from tensorflow.keras.preprocessing.sequence import pad_sequences  # Pads sequences to a fixed length for uniform input\n",
        "from tensorflow.keras.utils import to_categorical               # Converts numeric labels into one-hot encoded vectors\n",
        "from tensorflow.keras.models import Sequential                  # Keras class for building sequential neural network models\n",
        "from tensorflow.keras.layers import Embedding, LSTM, Dense, Dropout  # Layers: Embedding (word vectors), LSTM (sequence learning), Dense (fully connected), Dropout (regularization)\n",
        "\n",
        "\n",
        "# Spark\n",
        "from pyspark.sql import SparkSession          # Entry point for using Spark SQL and DataFrames in PySpark\n",
        "from pyspark.sql.functions import input_file_name, udf  # input_file_name: gets the source file path; `udf` defines custom user functions\n",
        "from pyspark.sql.types import StringType     # Defines the data type of columns when using UDFs or creating DataFrames -  in this instance -  string type\n",
        "\n",
        "nltk.download('punkt')\n"
      ],
      "metadata": {
        "colab": {
          "base_uri": "https://localhost:8080/"
        },
        "id": "ZkfozpmU7GM1",
        "outputId": "6676f1c7-006e-446e-b989-bf8718cd17ad"
      },
      "execution_count": 1,
      "outputs": [
        {
          "output_type": "stream",
          "name": "stderr",
          "text": [
            "[nltk_data] Downloading package punkt to /root/nltk_data...\n",
            "[nltk_data]   Package punkt is already up-to-date!\n"
          ]
        },
        {
          "output_type": "execute_result",
          "data": {
            "text/plain": [
              "True"
            ]
          },
          "metadata": {},
          "execution_count": 1
        }
      ]
    },
    {
      "cell_type": "code",
      "source": [
        "# Initializing Spark\n",
        "spark = SparkSession.builder \\\n",
        "    .appName(\"AuthorPrediction\") \\\n",
        "    .getOrCreate()\n"
      ],
      "metadata": {
        "id": "9Qv52sfm8DzD"
      },
      "execution_count": 2,
      "outputs": []
    }
  ]
}